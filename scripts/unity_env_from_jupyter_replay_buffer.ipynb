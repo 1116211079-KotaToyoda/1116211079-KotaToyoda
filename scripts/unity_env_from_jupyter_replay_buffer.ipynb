{
 "cells": [
  {
   "cell_type": "code",
   "execution_count": 1,
   "id": "a55a3e7a-9087-4dcb-84dd-540d08b9c4d0",
   "metadata": {
    "slideshow": {
     "slide_type": ""
    },
    "tags": []
   },
   "outputs": [],
   "source": [
    "from mlagents_envs.environment import UnityEnvironment\n",
    "from mlagents_envs.side_channel.engine_configuration_channel import EngineConfigurationChannel\n",
    "import numpy as np\n",
    "import itertools\n",
    "\n",
    "import torch\n",
    "import torch.nn as nn\n",
    "import torch.optim as optim\n",
    "from torch.distributions import Normal\n",
    "import torch.nn.functional as F\n",
    "import torch.onnx\n",
    "#import torchvision\n",
    "\n",
    "from statistics import median\n",
    "\n",
    "from torch.utils.tensorboard import SummaryWriter\n",
    "\n",
    "from mlagents_envs.base_env import ActionTuple"
   ]
  },
  {
   "cell_type": "code",
   "execution_count": 2,
   "id": "e39f0aa3-1459-4080-841c-274631b3edfe",
   "metadata": {
    "slideshow": {
     "slide_type": ""
    },
    "tags": []
   },
   "outputs": [
    {
     "name": "stdout",
     "output_type": "stream",
     "text": [
      "True\n",
      "cuda\n"
     ]
    }
   ],
   "source": [
    "use_cuda = torch.cuda.is_available()\n",
    "device = torch.device(\"cuda\" if use_cuda else \"cpu\")\n",
    "writer = SummaryWriter()\n",
    "\n",
    "lr = 1e-7\n",
    "clip_param = 0.2\n",
    "lambd_param = 0.95\n",
    "gamma_param = 0.99\n",
    "\n",
    "num_epochs_list = [1500]\n",
    "num_episodes = 512\n",
    "update_every = 4\n",
    "ppo_batch_size = 512\n",
    "mini_batch_size = 64\n",
    "ppo_epoch = 4 #conventionally, 4\n",
    "entropy_coef_param = 0.01\n",
    "\n",
    "input_channel = 23\n",
    "action_size = 6\n",
    "\n",
    "\n",
    "print(use_cuda)\n",
    "print(device)"
   ]
  },
  {
   "cell_type": "markdown",
   "id": "0c956b96-1178-4901-b631-462c253d49cc",
   "metadata": {
    "editable": true,
    "slideshow": {
     "slide_type": ""
    },
    "tags": []
   },
   "source": [
    "# Creating model(Actor-critic)"
   ]
  },
  {
   "cell_type": "code",
   "execution_count": 3,
   "id": "fcb48804-ac9f-49b8-9639-71247f38e175",
   "metadata": {
    "slideshow": {
     "slide_type": ""
    },
    "tags": []
   },
   "outputs": [],
   "source": [
    "def print_shape_hook(module, input, output):\n",
    "    print(f\"{module.__class__.__name__}: {output.shape}\")"
   ]
  },
  {
   "cell_type": "code",
   "execution_count": 4,
   "id": "4d2bfdc9-18d7-44f5-8c45-bbb1ab5cc2a6",
   "metadata": {
    "slideshow": {
     "slide_type": ""
    },
    "tags": []
   },
   "outputs": [],
   "source": [
    "#need to change the input size of linear layer\n",
    "\n",
    "class Actor(nn.Module):\n",
    "    def __init__(self, input_channel, action_dim):\n",
    "        super(Actor, self).__init__()\n",
    "        self.convs = nn.Sequential(\n",
    "            nn.Conv2d(input_channel, 96, 4, 4),\n",
    "            nn.Conv2d(96, 96, 7),\n",
    "            nn.Conv2d(96, 384, 1),\n",
    "            nn.ReLU(),\n",
    "            nn.Conv2d(384,96,1),\n",
    "            nn.Conv2d(96, 192, 7),\n",
    "            nn.Conv2d(192, 768,1),\n",
    "            nn.ReLU(),\n",
    "            nn.Conv2d(768, 192, 1),\n",
    "\n",
    "            # add more Conv layers according to your input size of the image (more than 110 x 110)\n",
    "            \n",
    "            # nn.Conv2d(192, 384, 7),\n",
    "            # nn.Conv2d(384, 1536, 1),\n",
    "            # nn.ReLU(),\n",
    "            # nn.Conv2d(1536, 384, 1),\n",
    "            # nn.Conv2d(384, 768,7),\n",
    "            # nn.Conv2d(768, 3072,1),\n",
    "            # nn.ReLU(),\n",
    "            # nn.Conv2d(3072, 768, 1),\n",
    "            # nn.ReLU(),\n",
    "        )\n",
    "\n",
    "        # for conv_layer in self.convs:\n",
    "        #     conv_layer.register_forward_hook(print_shape_hook)\n",
    "\n",
    "        self.flatten = nn.Flatten()\n",
    "\n",
    "        self.linear = nn.Linear(43200, action_dim)\n",
    "        self.log_std = nn.Parameter(torch.ones((1,action_dim)))\n",
    "\n",
    "    def forward(self, observation):\n",
    "        x = self.convs(observation)\n",
    "        x = self.flatten(x)\n",
    "        logits = self.linear(x)\n",
    "\n",
    "        std = self.log_std.exp().expand_as(logits)\n",
    "        \n",
    "        dist = Normal(logits, std)\n",
    "        \n",
    "        actions = dist.sample()\n",
    "\n",
    "        actions_1_to_4 = actions[..., :4]\n",
    "        actions_5_and_6 = actions[..., 4:]\n",
    "\n",
    "        scaled_actions_1_to_4 = torch.tanh(actions_1_to_4)\n",
    "        scaled_actions_5_and_6 = torch.sigmoid(actions_5_and_6)\n",
    "\n",
    "        scaled_actions = torch.cat([scaled_actions_1_to_4, scaled_actions_5_and_6], dim=-1)\n",
    "        \n",
    "        log_probs = dist.log_prob(actions)\n",
    "        entropy = dist.entropy()\n",
    "        \n",
    "        return scaled_actions, log_probs, entropy\n",
    "\n",
    "    def reInstantiate_fc_layer_input_size(self, input_shape, output_shape=6):\n",
    "        x = torch.randn(input_shape).to(device)\n",
    "        with torch.no_grad():\n",
    "            output = self.convs(x)\n",
    "\n",
    "        flatten_output = output.view(1, -1).size(1)\n",
    "        print(f\"new fc layer input size: {flatten_output}\")\n",
    "\n",
    "        self.linear = nn.Linear(flatten_output, output_shape).to(device)\n"
   ]
  },
  {
   "cell_type": "code",
   "execution_count": 5,
   "id": "c4f5c67a-75b0-4e10-b196-0ca1f86b639d",
   "metadata": {
    "editable": true,
    "slideshow": {
     "slide_type": ""
    },
    "tags": []
   },
   "outputs": [],
   "source": [
    "class Critic(nn.Module):\n",
    "    def __init__(self, input_channel):\n",
    "        super(Critic, self).__init__()\n",
    "        self.convs = nn.Sequential(\n",
    "            nn.Conv2d(input_channel, 96, 4, 4),\n",
    "            nn.Conv2d(96, 96, 7),\n",
    "            nn.Conv2d(96, 384, 1),\n",
    "            nn.ReLU(),\n",
    "            nn.Conv2d(384,96,1),\n",
    "            nn.Conv2d(96, 192, 7),\n",
    "            nn.Conv2d(192, 768,1),\n",
    "            nn.ReLU(),\n",
    "            nn.Conv2d(768, 192, 1),\n",
    "\n",
    "            # add more layers if input size of image is bigger than default(110 x 110)\n",
    "            \n",
    "            # nn.Conv2d(192, 384, 7),\n",
    "            # nn.Conv2d(384, 1536, 1),\n",
    "            # nn.ReLU(),\n",
    "            # nn.Conv2d(1536, 384, 1),\n",
    "            # nn.Conv2d(384, 768,7),\n",
    "            # nn.Conv2d(768, 3072,1),\n",
    "            # nn.ReLU(),\n",
    "            # nn.Conv2d(3072, 768, 1),\n",
    "            # nn.ReLU(),\n",
    "        )\n",
    "\n",
    "        # for layer in self.convs:\n",
    "        #     layer.register_forward_hook(print_shape_hook)\n",
    "\n",
    "        self.flatten = nn.Flatten()\n",
    "        self.linear = nn.Linear(43200, 1)\n",
    "\n",
    "    def forward(self, observation):\n",
    "        x = self.convs(observation)\n",
    "        x = self.flatten(x)\n",
    "        value = self.linear(x)\n",
    "\n",
    "        return value\n",
    "\n",
    "    def reInstantiate_fc_layer_input_size(self, input_shape):\n",
    "        x = torch.randn(input_shape).to(device)\n",
    "        with torch.no_grad():\n",
    "            output = self.convs(x)\n",
    "\n",
    "        flatten_output = output.view(1, -1).size(1)\n",
    "        print(f\"new fc layer input size: {flatten_output}\")\n",
    "\n",
    "        self.linear = nn.Linear(flatten_output, output_shape).to(device)"
   ]
  },
  {
   "cell_type": "markdown",
   "id": "862d045e-cc38-46c5-b6ff-3e76dd88b1cb",
   "metadata": {
    "editable": true,
    "slideshow": {
     "slide_type": ""
    },
    "tags": []
   },
   "source": [
    "# Initialize PPO and critic update"
   ]
  },
  {
   "cell_type": "code",
   "execution_count": 6,
   "id": "ecc910f0-4e63-47f7-94b1-707440082cc9",
   "metadata": {
    "editable": true,
    "slideshow": {
     "slide_type": ""
    },
    "tags": []
   },
   "outputs": [],
   "source": [
    "#calculate ppo loss for one agent\n",
    "def calc_ppo_loss(epoch, ppo_epoch, batch_size, num_agents, states_agent1, states_agent2, log_probs_agent1, log_probs_agent2, entropy_agent1, entropy_agent2, advantages_agent1, advantages_agent2, sigma_param):\n",
    "\n",
    "    assert len(states_agent1) == len(log_probs_agent1) == len(advantages_agent1) == len(entropy_agent1) == len(states_agent2) == len(log_probs_agent2) == len(advantages_agent2) == len(entropy_agent2) \n",
    "    def ppo_iter(mini_batch_size, \n",
    "                 batch_size, \n",
    "                 states_agent1, \n",
    "                 log_probs_agent1, \n",
    "                 entropy_agent1, \n",
    "                 advantages_agent1, \n",
    "                 states_agent2, \n",
    "                 log_probs_agent2, \n",
    "                 entropy_agent2, \n",
    "                 advantages_agent2\n",
    "                ):\n",
    "        for _ in range((batch_size * update_every) // (mini_batch_size)):\n",
    "            # Generate random indices for sampling\n",
    "            batch_ids = np.random.randint(0, batch_size * update_every, mini_batch_size)\n",
    "            \n",
    "            # Yield the mini-batches of states and log probabilities for both agents\n",
    "            yield (\n",
    "                states_agent1[batch_ids, :, :, :].to(device),\n",
    "                states_agent2[batch_ids, :, :, :].to(device),\n",
    "                log_probs_agent1[batch_ids, :].to(device),\n",
    "                log_probs_agent2[batch_ids, :].to(device),\n",
    "                entropy_agent1[batch_ids, :].to(device),\n",
    "                entropy_agent2[batch_ids, :].to(device),\n",
    "                advantages_agent1[batch_ids].to(device),\n",
    "                advantages_agent2[batch_ids].to(device)\n",
    "            )\n",
    "    \n",
    "    total_loss = 0\n",
    "    for _ in range(ppo_epoch):\n",
    "        \n",
    "        for (\n",
    "                state_agent1, state_agent2,\n",
    "                log_probs_old_agent1, log_probs_old_agent2,\n",
    "                entropys_old_agent1, entropys_old_agent2,\n",
    "                advantage_agent1, advantage_agent2\n",
    "            ) in ppo_iter(\n",
    "                mini_batch_size, \n",
    "                batch_size,  \n",
    "                states_agent1,  \n",
    "                log_probs_agent1,  \n",
    "                entropy_agent1, \n",
    "                advantages_agent1,\n",
    "                states_agent2,\n",
    "                log_probs_agent2,\n",
    "                entropy_agent2,\n",
    "                advantages_agent2\n",
    "            ):\n",
    "            \n",
    "            \n",
    "            _ , log_probs_new_agent1, entropy_new_agent1 = agent_model(state_agent1)\n",
    "            _ , log_probs_new_agent2, entropy_new_agent2 = agent_model(state_agent2)\n",
    "            \n",
    "            rt_agent1 = (log_probs_new_agent1 - log_probs_old_agent1).exp()\n",
    "            rt_agent2 = (log_probs_new_agent2 - log_probs_old_agent2).exp()\n",
    "            \n",
    "            clip_agent1 = torch.clamp(rt_agent1, 1 - clip_param, 1 + clip_param)\n",
    "            clip_agent2 = torch.clamp(rt_agent2, 1 - clip_param, 1 + clip_param)\n",
    "            \n",
    "            surr1_agent1 = rt_agent1 * advantage_agent1.unsqueeze(1)\n",
    "            surr2_agent1 = clip_agent1 * advantage_agent1.unsqueeze(1)\n",
    "\n",
    "            surr1_agent2 = rt_agent2 * advantage_agent2.unsqueeze(1)\n",
    "            surr2_agent2 = clip_agent2 * advantage_agent2.unsqueeze(1)\n",
    "            \n",
    "            \n",
    "            agent1_loss = - torch.min(surr1_agent1, surr2_agent1).mean()\n",
    "            entropy_aggre_agent1 = - entropy_new_agent1.mean()\n",
    "\n",
    "            agent2_loss = - torch.min(surr1_agent2, surr2_agent2).mean()\n",
    "            entropy_aggre_agent2 = - entropy_new_agent2.mean()\n",
    "            \n",
    "            \n",
    "            loss = (agent1_loss + agent2_loss + sigma_param * (entropy_aggre_agent1 + entropy_aggre_agent2)) / num_agents\n",
    "            \n",
    "            agent_optimizer.zero_grad()\n",
    "            loss.backward()\n",
    "            agent_optimizer.step()\n",
    "            total_loss += loss\n",
    "\n",
    "    writer.add_scalar(\"agent_loss\", total_loss, epoch)\n",
    "    "
   ]
  },
  {
   "cell_type": "code",
   "execution_count": 7,
   "id": "8bce1172-64b6-4a33-9174-faa5c6762638",
   "metadata": {},
   "outputs": [],
   "source": [
    "def mappo_update(epoch, ppo_epoch, batch_size, agents_name, states_all, log_probs_all, entropy_all, advantages_all, sigma_param):\n",
    "    loss = 0\n",
    "    num_agents = len(agents_name)\n",
    "    agent1, agent2 = agents_name\n",
    "    calc_ppo_loss(\n",
    "        epoch,\n",
    "        ppo_epoch, \n",
    "        batch_size, \n",
    "        num_agents, \n",
    "        states_all[agent1], \n",
    "        states_all[agent2], \n",
    "        log_probs_all[agent1], \n",
    "        log_probs_all[agent2], \n",
    "        entropy_all[agent1], \n",
    "        entropy_all[agent2], \n",
    "        advantages_all[agent1], \n",
    "        advantages_all[agent2], \n",
    "        sigma_param\n",
    "    )\n"
   ]
  },
  {
   "cell_type": "code",
   "execution_count": 8,
   "id": "39f63452-16b3-477f-a878-1f21e02288b1",
   "metadata": {
    "editable": true,
    "slideshow": {
     "slide_type": ""
    },
    "tags": []
   },
   "outputs": [],
   "source": [
    "def calc_critic_loss(epoch, critic_update_epoch, batch_size, mini_batch_size, num_agents, states_agent1, states_agent2, values_agent1, values_agent2, returns_agent1, returns_agent2):\n",
    "    def critic_loss_iter(batch_size, \n",
    "                         mini_batch_size, \n",
    "                         states_agent1, \n",
    "                         states_agent2,\n",
    "                         values_agent1,\n",
    "                         values_agent2,\n",
    "                         returns_agent1,\n",
    "                         returns_agent2,\n",
    "                        ):\n",
    "        for _ in range((batch_size * update_every) // (mini_batch_size)):\n",
    "            batch_ids = np.random.randint(0, batch_size * update_every, mini_batch_size)\n",
    "            yield (\n",
    "                states_agent1[batch_ids, :, :, :].to(device),\n",
    "                states_agent2[batch_ids, :, :, :].to(device),\n",
    "                values_agent1[batch_ids].to(device),\n",
    "                values_agent2[batch_ids].to(device),\n",
    "                returns_agent1[batch_ids, :].to(device),\n",
    "                returns_agent2[batch_ids, :].to(device)\n",
    "                \n",
    "            )\n",
    "\n",
    "    total_loss = 0\n",
    "    for _ in range(critic_update_epoch):\n",
    "        for (\n",
    "            state_agent1, \n",
    "            state_agent2, \n",
    "            values_old_agent1, \n",
    "            values_old_agent2, \n",
    "            return_agent1, \n",
    "            return_agent2) in critic_loss_iter(\n",
    "            batch_size, \n",
    "            mini_batch_size, \n",
    "            states_agent1,\n",
    "            states_agent2,\n",
    "            values_agent1,\n",
    "            values_agent2,\n",
    "            returns_agent1,\n",
    "            returns_agent2\n",
    "        ):\n",
    "            value_new_agent1 = critic_model(state_agent1)\n",
    "            value_new_agent2 = critic_model(state_agent2)\n",
    "\n",
    "            surr1_agent1 = (value_new_agent1 - return_agent1).pow(2).mean()\n",
    "            surr2_agent1 = (torch.clamp(value_new_agent1, values_old_agent1 - clip_param, values_old_agent1 + clip_param) - return_agent1).pow(2).mean()\n",
    "\n",
    "            surr1_agent2 = (value_new_agent2 - return_agent2).pow(2).mean()\n",
    "            surr2_agent2 = (torch.clamp(value_new_agent2, values_old_agent2 - clip_param, values_old_agent2 + clip_param) - return_agent2).pow(2).mean()\n",
    "\n",
    "            critic_loss_agent1 = max(surr1_agent1, surr2_agent1)\n",
    "\n",
    "            critic_loss_agent2 = max(surr1_agent2, surr2_agent2)\n",
    "            loss = (critic_loss_agent1 + critic_loss_agent2) / num_agents\n",
    "            \n",
    "            critic_optimizer.zero_grad()\n",
    "            loss.backward()\n",
    "            critic_optimizer.step()\n",
    "\n",
    "            total_loss += loss\n",
    "    writer.add_scalar(\"critic loss\", total_loss, epoch)\n"
   ]
  },
  {
   "cell_type": "code",
   "execution_count": 9,
   "id": "47a714fe-a4f0-44e0-97d1-4583ec449b4d",
   "metadata": {},
   "outputs": [],
   "source": [
    "def critic_update(epoch, critic_update_epoch, batch_size, mini_batch_size, agents_name, states_all, values_all, returns_all):\n",
    "    num_agents = len(agents_name)\n",
    "    agent1, agent2 = agents_name\n",
    "    calc_critic_loss(epoch,\n",
    "                     critic_update_epoch, \n",
    "                     batch_size, \n",
    "                     mini_batch_size, \n",
    "                     num_agents, \n",
    "                     states_all[agent1], \n",
    "                     states_all[agent2],\n",
    "                     values_all[agent1],\n",
    "                     values_all[agent2],\n",
    "                     returns_all[agent1], \n",
    "                     returns_all[agent2]\n",
    "                    )"
   ]
  },
  {
   "cell_type": "markdown",
   "id": "94a74bea-d500-4e86-88aa-e099a1118c42",
   "metadata": {
    "editable": true,
    "slideshow": {
     "slide_type": ""
    },
    "tags": []
   },
   "source": [
    "# GAE for estimating Advantage function\n",
    "\n",
    "Here, we used GAE to estimate reward-to-go by using equation Q = A(estimated) + V "
   ]
  },
  {
   "cell_type": "code",
   "execution_count": 10,
   "id": "11e83e8b-1032-40d0-bf56-d9961820999c",
   "metadata": {
    "editable": true,
    "slideshow": {
     "slide_type": ""
    },
    "tags": []
   },
   "outputs": [],
   "source": [
    "#this method is for lambd = 1 in TD(lambd) algorithm\n",
    "def compute_GAE(next_value, values, rewards, gamma, lambd):\n",
    "    gae = 0\n",
    "    returns = []\n",
    "    values = values if len(next_value) == 0 else values + [next_value]\n",
    "    if len(values) == len(rewards) + 1:\n",
    "        for step in reversed(range(len(rewards))):\n",
    "            delta = rewards[step] + (gamma * values[step + 1]) - values[step]\n",
    "            if step == len(rewards) - 1:\n",
    "                gae = 0\n",
    "            else:\n",
    "                gae = delta + gamma * lambd * gae\n",
    "\n",
    "            returns.append(gae + values[step])\n",
    "    else:\n",
    "        for step in reversed(range(1, len(values))):\n",
    "            delta = rewards[step - 1] + (gamma * values[step]) - values[step - 1]\n",
    "            if step == len(values) - 1:\n",
    "                gae = 0\n",
    "            else:\n",
    "                gae = delta + gamma * lambd * gae\n",
    "    \n",
    "            returns.append(gae + values[step])\n",
    "            \n",
    "    returns.reverse()\n",
    "    return returns\n"
   ]
  },
  {
   "cell_type": "code",
   "execution_count": 11,
   "id": "4039499a-73b7-4f30-81ae-a53def899b76",
   "metadata": {
    "editable": true,
    "slideshow": {
     "slide_type": ""
    },
    "tags": []
   },
   "outputs": [],
   "source": [
    "def compute_GAE_dict(next_values, values_all, rewards_all, gamma, lambd):\n",
    "    agents_name = [\"agent1\", \"agent2\"]\n",
    "    returns_all = {\"agent1\": [], \"agent2\": []}\n",
    "    for index, agent_name in enumerate(agents_name):\n",
    "        returns_all[agent_name] = compute_GAE(next_values[index], values_all[agent_name], rewards_all[agent_name], gamma, lambd)\n",
    "\n",
    "    return returns_all"
   ]
  },
  {
   "cell_type": "code",
   "execution_count": 12,
   "id": "1bee6bf1-4a82-47b2-94b5-9166f9ea1dce",
   "metadata": {},
   "outputs": [],
   "source": [
    "def compute_Advantage_dict(values_all, returns_all):\n",
    "    advantages_all = {\"agent1\": [], \"agent2\": []}\n",
    "    agents_name = [\"agent1\", \"agent2\"]\n",
    "\n",
    "    for agent_name in agents_name:\n",
    "        for i in range(len(returns_all[agent_name])):\n",
    "            advantages_all[agent_name].append(returns_all[agent_name][i] - values_all[agent_name][i])\n",
    "    return advantages_all"
   ]
  },
  {
   "cell_type": "code",
   "execution_count": 13,
   "id": "400400e8-0831-45f6-bb68-a864d597b718",
   "metadata": {},
   "outputs": [],
   "source": [
    "values_all = {\"agent1\": torch.Tensor([1,1,1,1]), \"agent2\": [1,1,1,3]}\n",
    "returns_all = {\"agent1\": torch.Tensor([1,3,5,1]), \"agent2\": np.array([1,4,5,6])}\n",
    "\n",
    "advantages_all_dummy = compute_Advantage_dict(values_all, returns_all)"
   ]
  },
  {
   "cell_type": "code",
   "execution_count": 14,
   "id": "43b0039e-8598-40ef-95e3-a3d811045987",
   "metadata": {},
   "outputs": [
    {
     "data": {
      "text/plain": [
       "{'agent1': [tensor(0.), tensor(2.), tensor(4.), tensor(0.)],\n",
       " 'agent2': [0, 3, 4, 3]}"
      ]
     },
     "execution_count": 14,
     "metadata": {},
     "output_type": "execute_result"
    }
   ],
   "source": [
    "advantages_all_dummy"
   ]
  },
  {
   "cell_type": "markdown",
   "id": "c0b52652-075d-4663-b00a-58b86608bd44",
   "metadata": {
    "editable": true,
    "slideshow": {
     "slide_type": ""
    },
    "tags": []
   },
   "source": [
    "# Config and constant setups"
   ]
  },
  {
   "cell_type": "code",
   "execution_count": 15,
   "id": "91e6b2e6-951f-452f-bf31-cad021960412",
   "metadata": {
    "editable": true,
    "slideshow": {
     "slide_type": ""
    },
    "tags": []
   },
   "outputs": [],
   "source": [
    "_actor_visual_obs_from_env = [\n",
    "        #LAYER ORDER\n",
    "        \"CameraSensor\",\n",
    "        \"AgentSensor\",\n",
    "        \"TableSensor\",\n",
    "        \"OnionDispSensor\",\n",
    "        \"DishDispSensor\",\n",
    "        \"ServeDispSensor\",\n",
    "        \"OvenDispSensor\",\n",
    "        \"OnionSensor\",\n",
    "        \"DishSensor\",\n",
    "        \"SoupSensor\",\n",
    "        \"CookingTimerSensor\",\n",
    "        \"IsCookedSensor\"\n",
    "    ]\n",
    "\n",
    "agent_movement_directions = [\"LEFT\", \"RIGHT\", \"UP\", \"DOWN\"]\n",
    "\n",
    "\n",
    "sorted_obs_order = [   \n",
    "        \"CameraSensor_1\",\n",
    "        \"CameraSensor_2\",\n",
    "        \"CameraSensor_3\",\n",
    "        \"AgentSensor\",\n",
    "        \"AgentSensor_UP\",\n",
    "        \"AgentSensor_DOWN\",\n",
    "        \"AgentSensor_RIGHT\",\n",
    "        \"AgentSensor_LEFT\",\n",
    "        \"OtherAgentSensor\",\n",
    "        \"OtherAgentSensor_UP\",\n",
    "        \"OtherAgentSensor_DOWN\",\n",
    "        \"OtherAgentSensor_RIGHT\",\n",
    "        \"OtherAgentSensor_LEFT\",\n",
    "        \"TableSensor\",\n",
    "        \"OnionDispSensor\",\n",
    "        \"DishDispSensor\",\n",
    "        \"ServeDispSensor\",\n",
    "        \"OvenDispSensor\",\n",
    "        \"OnionSensor\",\n",
    "        \"DishSensor\",\n",
    "        \"SoupSensor\",\n",
    "        \"CookingTimerSensor\",\n",
    "        \"IsCookedSensor\"\n",
    "    ]\n"
   ]
  },
  {
   "cell_type": "code",
   "execution_count": 16,
   "id": "62ac2a9f-a7f1-4eb6-87d2-48dff8b2eb18",
   "metadata": {
    "editable": true,
    "slideshow": {
     "slide_type": ""
    },
    "tags": []
   },
   "outputs": [],
   "source": [
    "def setupUnityEnv(url:str = None, time_scale:float = 20.0):\n",
    "    # Optional: Set up engine configurations like rendering and time scale\n",
    "    engine_channel = EngineConfigurationChannel()\n",
    "    engine_channel.set_configuration_parameters(time_scale=time_scale) # Faster simulation\n",
    "\n",
    "    # Initialize the Unity environment with the executable\n",
    "    env = UnityEnvironment(file_name=url, side_channels=[engine_channel])\n",
    "    env.reset()  # Start a new episode\n",
    "\n",
    "    return env\n"
   ]
  },
  {
   "cell_type": "code",
   "execution_count": 17,
   "id": "6c397d2a-daf2-4bd1-95bf-b4aa0055ef12",
   "metadata": {
    "editable": true,
    "slideshow": {
     "slide_type": ""
    },
    "tags": []
   },
   "outputs": [],
   "source": [
    "def addDirectionLayer(layer_dict,direction_obs):\n",
    "    x_axis, y_axis = direction_obs.squeeze(0)\n",
    "\n",
    "    for direction in agent_movement_directions:\n",
    "        layer_initailize = np.zeros_like(layer_dict[\"AgentSensor\"])\n",
    "        layer_dict[f\"AgentSensor_{direction}\"] = layer_initailize\n",
    "\n",
    "    def chooseDirectionLayer(axis, axis_name):\n",
    "        direct = {\n",
    "            \"x\": [\"LEFT\", \"RIGHT\"],\n",
    "            \"y\":[\"DOWN\", \"UP\"]\n",
    "        }\n",
    "        direction = str()\n",
    "        if axis < 0:\n",
    "            direction = direct[axis_name][0]\n",
    "        elif axis > 0:\n",
    "            direction = direct[axis_name][1]\n",
    "        else:\n",
    "            direction = None\n",
    "\n",
    "        return direction\n",
    "    \n",
    "    agent_directions = [chooseDirectionLayer(x_axis, \"x\"), chooseDirectionLayer(y_axis,\"y\")]\n",
    "    \n",
    "    for agent_direction in agent_directions:\n",
    "        if agent_direction is None:\n",
    "            continue\n",
    "\n",
    "        layer_visual_vector = layer_dict[\"AgentSensor\"]\n",
    "        layer_dict[f\"AgentSensor_{agent_direction}\"] = layer_visual_vector\n",
    "    \n",
    "    return layer_dict\n"
   ]
  },
  {
   "cell_type": "code",
   "execution_count": 18,
   "id": "bdaea075-5f6e-44b2-8ea2-0c64d1485785",
   "metadata": {
    "editable": true,
    "slideshow": {
     "slide_type": ""
    },
    "tags": []
   },
   "outputs": [],
   "source": [
    "def addOtherAgentLayers(layer_dict,agent_name,other_agent_name):\n",
    "    other_agent_layer_names = {\n",
    "        \"OtherAgentSensor\": \"AgentSensor\",\n",
    "        \"OtherAgentSensor_UP\": \"AgentSensor_UP\",\n",
    "        \"OtherAgentSensor_DOWN\": \"AgentSensor_DOWN\",\n",
    "        \"OtherAgentSensor_RIGHT\": \"AgentSensor_RIGHT\",\n",
    "        \"OtherAgentSensor_LEFT\":\"AgentSensor_LEFT\"\n",
    "    }\n",
    "\n",
    "    for key, value in other_agent_layer_names.items():\n",
    "        layer_dict[agent_name][key] = layer_dict[other_agent_name][value]\n",
    "\n",
    "    return layer_dict[agent_name]\n",
    "            "
   ]
  },
  {
   "cell_type": "markdown",
   "id": "84596627-703f-4ae9-8ed0-f8235fbcc907",
   "metadata": {
    "editable": true,
    "slideshow": {
     "slide_type": ""
    },
    "tags": []
   },
   "source": [
    "# instantiate Actor and Critic model\n"
   ]
  },
  {
   "cell_type": "code",
   "execution_count": 19,
   "id": "505c08ea-f486-4e6a-a491-7cc0b609a984",
   "metadata": {
    "editable": true,
    "slideshow": {
     "slide_type": ""
    },
    "tags": []
   },
   "outputs": [
    {
     "name": "stdout",
     "output_type": "stream",
     "text": [
      "Actor(\n",
      "  (convs): Sequential(\n",
      "    (0): Conv2d(23, 96, kernel_size=(4, 4), stride=(4, 4))\n",
      "    (1): Conv2d(96, 96, kernel_size=(7, 7), stride=(1, 1))\n",
      "    (2): Conv2d(96, 384, kernel_size=(1, 1), stride=(1, 1))\n",
      "    (3): ReLU()\n",
      "    (4): Conv2d(384, 96, kernel_size=(1, 1), stride=(1, 1))\n",
      "    (5): Conv2d(96, 192, kernel_size=(7, 7), stride=(1, 1))\n",
      "    (6): Conv2d(192, 768, kernel_size=(1, 1), stride=(1, 1))\n",
      "    (7): ReLU()\n",
      "    (8): Conv2d(768, 192, kernel_size=(1, 1), stride=(1, 1))\n",
      "  )\n",
      "  (flatten): Flatten(start_dim=1, end_dim=-1)\n",
      "  (linear): Linear(in_features=43200, out_features=6, bias=True)\n",
      ")\n",
      "Critic(\n",
      "  (convs): Sequential(\n",
      "    (0): Conv2d(23, 96, kernel_size=(4, 4), stride=(4, 4))\n",
      "    (1): Conv2d(96, 96, kernel_size=(7, 7), stride=(1, 1))\n",
      "    (2): Conv2d(96, 384, kernel_size=(1, 1), stride=(1, 1))\n",
      "    (3): ReLU()\n",
      "    (4): Conv2d(384, 96, kernel_size=(1, 1), stride=(1, 1))\n",
      "    (5): Conv2d(96, 192, kernel_size=(7, 7), stride=(1, 1))\n",
      "    (6): Conv2d(192, 768, kernel_size=(1, 1), stride=(1, 1))\n",
      "    (7): ReLU()\n",
      "    (8): Conv2d(768, 192, kernel_size=(1, 1), stride=(1, 1))\n",
      "  )\n",
      "  (flatten): Flatten(start_dim=1, end_dim=-1)\n",
      "  (linear): Linear(in_features=43200, out_features=1, bias=True)\n",
      ")\n"
     ]
    }
   ],
   "source": [
    "agent_model = Actor(23, 6).to(device)\n",
    "critic_model = Critic(23).to(device)\n",
    "\n",
    "\n",
    "\n",
    "agent_optimizer = optim.Adam(agent_model.parameters(), lr=lr)\n",
    "critic_optimizer = optim.Adam(critic_model.parameters(), lr=lr)\n",
    "\n",
    "for param in agent_model.parameters():\n",
    "    param.requires_grad = True\n",
    "\n",
    "print(agent_model)\n",
    "print(critic_model)\n"
   ]
  },
  {
   "cell_type": "code",
   "execution_count": 20,
   "id": "7fbb3e04-e910-4c61-9327-fd01e81d67e5",
   "metadata": {},
   "outputs": [],
   "source": [
    "def reset_params(model):\n",
    "    for layer in model.modules():\n",
    "        if hasattr(layer, \"reset_parameters\"):\n",
    "            layer.reset_parameters()\n",
    "        else:\n",
    "            continue"
   ]
  },
  {
   "cell_type": "code",
   "execution_count": 21,
   "id": "e950a87e-d359-44b3-b59a-098b59a75360",
   "metadata": {
    "editable": true,
    "slideshow": {
     "slide_type": ""
    },
    "tags": []
   },
   "outputs": [],
   "source": [
    "def print_all_agent_trajectory(trajectory: dict(), feature_name):\n",
    "    print(f\"{feature_name}: \\n\")\n",
    "    print(\"agent1\")\n",
    "    print(trajectory[\"agent1\"].shape if type(trajectory[\"agent1\"]) == np.ndarray else type(trajectory[\"agent1\"]))\n",
    "    print(\"agent2\")\n",
    "    print(trajectory[\"agent2\"].shape if type(trajectory[\"agent2\"]) == np.ndarray else type(trajectory[\"agent2\"]))\n",
    "    "
   ]
  },
  {
   "cell_type": "code",
   "execution_count": 22,
   "id": "d4ed9199-8ee0-420e-b56f-254ace82f183",
   "metadata": {
    "editable": true,
    "slideshow": {
     "slide_type": ""
    },
    "tags": []
   },
   "outputs": [],
   "source": [
    "def transfer_to_numpy(dictionary: dict):\n",
    "    if type(dictionary[\"agent1\"]) is torch.Tensor or type(dictionary[\"agent2\"]) is torch.Tensor:\n",
    "        numpy_array1, numpy_array2 = dictionary[\"agent1\"].numpy(force=True), dictionary[\"agent2\"].numpy(force=True)\n",
    "    else:\n",
    "        numpy_array1, numpy_array2 = np.array(dictionary[\"agent1\"], dtype=np.float32), np.array(dictionary[\"agent2\"], dtype=np.float32)\n",
    "        \n",
    "    numpy_dictionary = {\"agent1\": numpy_array1, \"agent2\": numpy_array2}\n",
    "    return numpy_dictionary"
   ]
  },
  {
   "cell_type": "code",
   "execution_count": 23,
   "id": "6709eed5-f613-4535-b618-06a86bf2970e",
   "metadata": {
    "editable": true,
    "slideshow": {
     "slide_type": ""
    },
    "tags": []
   },
   "outputs": [],
   "source": [
    "decision_steps_dummy = [1,1,1]\n",
    "terminal_steps_dummy = [1,]\n",
    "dones_dummy = []\n",
    "\n",
    "dones_dummy.append(0 if len(terminal_steps_dummy) == 0 else 1)"
   ]
  },
  {
   "cell_type": "code",
   "execution_count": 24,
   "id": "ca3acbef-42e1-40fd-96a2-f595a0bbd5a5",
   "metadata": {
    "editable": true,
    "slideshow": {
     "slide_type": ""
    },
    "tags": []
   },
   "outputs": [],
   "source": [
    "def concat_tensor_dict(trajectory_dict):\n",
    "    tensor_dict = dict()\n",
    "    for key, value in trajectory_dict.items():\n",
    "        # [inside_value] = value\n",
    "        tensor_dict[key] = torch.cat(value)\n",
    "    return tensor_dict"
   ]
  },
  {
   "cell_type": "code",
   "execution_count": 25,
   "id": "e79cfb9b-3efb-497a-878a-292c31111d52",
   "metadata": {},
   "outputs": [],
   "source": [
    "def convert_list_into_tensor_dict(trajectory_dict):\n",
    "    tensor_dict = dict()\n",
    "    for key, value in trajectory_dict.items():\n",
    "        # [inside_value] = value\n",
    "        tensor_dict[key] = torch.stack(value)\n",
    "    return tensor_dict"
   ]
  },
  {
   "cell_type": "code",
   "execution_count": 26,
   "id": "f3c7205b-bf08-482e-a13e-d4f7ca365608",
   "metadata": {},
   "outputs": [],
   "source": [
    "def calc_total_reward(rewards_all):\n",
    "    total_rewards = []\n",
    "    for key, value in rewards_all.items():\n",
    "        reward_plus = 0\n",
    "        for index, reward_agent in enumerate(value):\n",
    "            if reward_agent > 0:\n",
    "                # print(f'index: {index}, reward_agent1: {reward_agent}')\n",
    "                reward_plus = reward_plus + reward_agent\n",
    "        total_rewards.append(reward_plus)\n",
    "\n",
    "    return total_rewards"
   ]
  },
  {
   "cell_type": "code",
   "execution_count": 27,
   "id": "5eea1d80-eacf-4f3e-8ae1-5c80f156e871",
   "metadata": {},
   "outputs": [],
   "source": [
    "total_rewards_all = []"
   ]
  },
  {
   "cell_type": "code",
   "execution_count": 28,
   "id": "d66e7280-c047-4ce6-9cd2-a9408411b98f",
   "metadata": {
    "editable": true,
    "slideshow": {
     "slide_type": ""
    },
    "tags": []
   },
   "outputs": [],
   "source": [
    "def main():\n",
    "    # Set up the path to the Unity executable\n",
    "    env_path = \"\"  # Replace with your actual build path\n",
    "\n",
    "    env = setupUnityEnv(env_path)\n",
    "    env.reset()\n",
    "    \n",
    "    # Set up to interact with the environment\n",
    "\n",
    "    agent_names = list(env.behavior_specs)\n",
    "    agent1, agent2 = agent_names\n",
    "    print(f\"Agents: {list(env.behavior_specs)}\")\n",
    "    print(type(env.behavior_specs))\n",
    "    for num_epochs in num_epochs_list:\n",
    "        \n",
    "        agent_model = Actor(23, 6).to(device)\n",
    "        critic_model = Critic(23).to(device)\n",
    "        \n",
    "        agent_optimizer = optim.Adam(agent_model.parameters(), lr=lr)\n",
    "        critic_optimizer = optim.Adam(critic_model.parameters(), lr=lr)\n",
    "        \n",
    "        for param in agent_model.parameters():\n",
    "            param.requires_grad = True\n",
    "\n",
    "        total_rewards_epochs = []\n",
    "        \n",
    "    \n",
    "        for num_epoch in range(num_epochs):\n",
    "\n",
    "            if num_epoch % update_every == 0:\n",
    "                states_all_traj = {\"agent1\": [], \"agent2\": []}\n",
    "                actions_all_traj = {\"agent1\": [], \"agent2\": []}\n",
    "                log_probs_all_traj = {\"agent1\": [],\"agent2\": [] }\n",
    "                entropy_all_traj = {\"agent1\": [], \"agent2\": []}\n",
    "                values_all_traj = {\"agent1\": [], \"agent2\": []}\n",
    "                rewards_all_traj = {\"agent1\": [], \"agent2\": []}\n",
    "                returns_all_traj = {\"agent1\": [], \"agent2\": []}\n",
    "                advantages_all_traj = {\"agent1\": [], \"agent2\": []}\n",
    "            \n",
    "            states_agent1 = []  # Observations for Agent 1\n",
    "            states_agent2 = []  # Observations for Agent 2\n",
    "            \n",
    "            states_all = {\"agent1\": [], \"agent2\": []}\n",
    "            actions_all = {\"agent1\": [], \"agent2\": []}\n",
    "            log_probs_all = {\"agent1\": [],\"agent2\": [] }\n",
    "            entropy_all = {\"agent1\": [], \"agent2\": []}\n",
    "            values_all = {\"agent1\": [], \"agent2\": []}\n",
    "            rewards_all = {\"agent1\": [], \"agent2\": []}\n",
    "            \n",
    "            returns_all = dict()  # Returns calculated for the trajectory\n",
    "            advantages_all = dict()  # Advantage estimates for PPO\n",
    "            \n",
    "            dones = []  # Whether the episode ended at this step\n",
    "            terminal_info = {\"terminal_steps\": list(), \"observation_specs\": None, \"agent_name\": str(), \"other_agent\": str()}\n",
    "            terminal_steps = None\n",
    "            \n",
    "            env.reset()\n",
    "            \n",
    "            for num_episode in range(num_episodes):\n",
    "                \n",
    "                agents_obs = dict()\n",
    "                agents_obs_in_array = []\n",
    "                for index, agent_name in enumerate(agent_names):\n",
    "                    spec = env.behavior_specs[agent_name]\n",
    "            \n",
    "                    decision_steps, terminal_steps = env.get_steps(agent_name)\n",
    "                    \n",
    "                    dones.append(0 if len(terminal_steps) == 0 else 1)\n",
    "                    if dones[-1] == 1:\n",
    "                        terminal_info[\"terminal_steps\"] = terminal_steps\n",
    "                        terminal_info[\"observation_specs\"] = spec.observation_specs\n",
    "                        terminal_info[\"agent_name\"] = agent_name\n",
    "                        terminal_info[\"other_agent\"] = agent1 if agent1 != agent_name else agent2\n",
    "                        break\n",
    "                    \n",
    "                    for agent_id in decision_steps.agent_id_to_index:\n",
    "                        reward = decision_steps[agent_id].reward\n",
    "                        # print(f\"Agent {agent_id} reward: {reward}\")\n",
    "                        rewards_all[f\"agent{agent_id + 1}\"].append(reward)\n",
    "                        \n",
    "                    \n",
    "                    # visual_obs, direction = sort_obs_from_env(spec.observation_specs)\n",
    "                    \n",
    "                    temp_input = dict()\n",
    "                        \n",
    "                    for index, obs_step in enumerate(spec.observation_specs):\n",
    "                        \n",
    "                        if len(obs_step.shape) == 3:\n",
    "                            if obs_step.name == \"CameraSensor\":\n",
    "                                for idx in range(len(decision_steps.obs[index].squeeze(0) )):\n",
    "                                    temp_input[f\"{obs_step.name}_{idx + 1}\"] = decision_steps.obs[index].squeeze(0)[idx]\n",
    "                            else:\n",
    "                                temp_input[obs_step.name] = decision_steps.obs[index].squeeze(0).squeeze(0)\n",
    "            \n",
    "                            \n",
    "                        else:\n",
    "                            temp_input = addDirectionLayer(temp_input, decision_steps.obs[index])\n",
    "                \n",
    "                    agents_obs[agent_name] = temp_input\n",
    "                \n",
    "                if dones[-1] == 1:\n",
    "                    break\n",
    "                    \n",
    "                agents_obs[agent1]= addOtherAgentLayers(agents_obs, agent1, agent2)\n",
    "                agents_obs[agent2] = addOtherAgentLayers(agents_obs, agent2, agent1)\n",
    "            \n",
    "                #input dictionary -> sorted array (as sorted_obs_order)\n",
    "                for agent_name in agent_names:\n",
    "                    agent_obs_in_array = []\n",
    "                    for sorted_layer in sorted_obs_order:\n",
    "                        agent_obs_in_array.append(agents_obs[agent_name][sorted_layer])\n",
    "                    agents_obs_in_array.append(agent_obs_in_array)\n",
    "                \n",
    "                #array -> numpy array \n",
    "                agents_obs_in_array = np.array(agents_obs_in_array, dtype=np.float32)\n",
    "                #obs -> state (save it for later)\n",
    "                # sprint(agents_obs_in_array.shape)\n",
    "                agents_obs_in_array = torch.from_numpy(agents_obs_in_array).to(device)\n",
    "                actions, log_probs, entropy = agent_model(agents_obs_in_array)\n",
    "                values = critic_model(agents_obs_in_array)\n",
    "                \n",
    "                states_agent1.append(agents_obs_in_array[0].detach().cpu())\n",
    "                states_agent2.append(agents_obs_in_array[1].detach().cpu())\n",
    "                \n",
    "                for index, agent_name in enumerate(agent_names):\n",
    "                    actions_all[f\"agent{index + 1}\"].append(actions[index].detach().cpu().numpy())\n",
    "                    log_probs_all[f\"agent{index + 1}\"].append(log_probs[index].detach().cpu())\n",
    "                    entropy_all[f\"agent{index + 1}\"].append(entropy[index].detach().cpu())\n",
    "                    values_all[f\"agent{index + 1}\"].append(values[index].detach().cpu())\n",
    "                    \n",
    "                    agent_action_tensor = actions[index].unsqueeze(0)\n",
    "                    action_tuple = ActionTuple(continuous=agent_action_tensor.numpy(force=True))\n",
    "                    env.set_actions(agent_name, action_tuple)\n",
    "                    \n",
    "                env.step()\n",
    "                \n",
    "    \n",
    "            #compute adavantage function with GAE here (this is why i cannot detach it at the same place with the others)\n",
    "    \n",
    "            # print(f'terminal_info:[terminal_steps: {terminal_info[\"terminal_steps\"] is not None}, \\n observation_specs:{terminal_info[\"observation_specs\"] is not None}, \\n agent_name: {terminal_info[\"agent_name\"]} \\n other_agent: {terminal_info[\"other_agent\"]}')\n",
    "            \n",
    "            if len(terminal_info[\"terminal_steps\"]) > 0:\n",
    "                agents_obs = dict()\n",
    "                agents_obs_in_array = []\n",
    "                temp_input = dict()\n",
    "                        \n",
    "                for index, obs_step in enumerate(terminal_info[\"observation_specs\"]):\n",
    "                    \n",
    "                    print(f'obs_name: {obs_step.name}, shape: {terminal_info[\"terminal_steps\"].obs[index].shape}, obs_step.shape: {obs_step.shape}')\n",
    "                    if len(obs_step.shape) == 3:\n",
    "                        if obs_step.name == \"CameraSensor\":\n",
    "                            for idx in range(len(terminal_info[\"terminal_steps\"].obs[index].squeeze(0) )):\n",
    "                                temp_input[f\"{obs_step.name}_{idx + 1}\"] = terminal_info[\"terminal_steps\"].obs[index].squeeze(0)[idx]\n",
    "                        else:\n",
    "                            temp_input[obs_step.name] = terminal_info[\"terminal_steps\"].obs[index].squeeze(0).squeeze(0)\n",
    "                        \n",
    "                    else:\n",
    "                        temp_input = addDirectionLayer(temp_input, terminal_info[\"terminal_steps\"].obs[index])\n",
    "                        print(f'other observation: {terminal_info[\"terminal_steps\"].obs[index].shape}')\n",
    "            \n",
    "                agents_obs[terminal_info[\"agent_name\"]] = temp_input\n",
    "    \n",
    "                print(agents_obs[terminal_info[\"agent_name\"]].keys())\n",
    "                print(\"cannot use this due to my lack of skills...\")\n",
    "                next_values = []\n",
    "                \n",
    "            else:\n",
    "                \n",
    "                agents_obs = dict()\n",
    "                agents_obs_in_array = []\n",
    "                for index, agent_name in enumerate(agent_names):\n",
    "                    spec = env.behavior_specs[agent_name]\n",
    "            \n",
    "                    decision_steps, terminal_steps = env.get_steps(agent_name)\n",
    "                    \n",
    "                    temp_input = dict()\n",
    "                        \n",
    "                    for index, obs_step in enumerate(spec.observation_specs):\n",
    "                        \n",
    "                        if len(obs_step.shape) == 3:\n",
    "                            # print(f\"obs_name: {obs_step.name}, shape: {decision_steps.obs[index].shape}\")\n",
    "                            if obs_step.name == \"CameraSensor\":\n",
    "                                for idx in range(len(decision_steps.obs[index].squeeze(0) )):\n",
    "                                    temp_input[f\"{obs_step.name}_{idx + 1}\"] = decision_steps.obs[index].squeeze(0)[idx]\n",
    "                            else:\n",
    "                                temp_input[obs_step.name] = decision_steps.obs[index].squeeze(0).squeeze(0)\n",
    "            \n",
    "                            \n",
    "                        else:\n",
    "                            temp_input = addDirectionLayer(temp_input, decision_steps.obs[index])\n",
    "                            # print(f\"other observation: {decision_steps.obs[index].shape}\")\n",
    "                \n",
    "                    agents_obs[agent_name] = temp_input\n",
    "                    \n",
    "                agents_obs[agent1]= addOtherAgentLayers(agents_obs, agent1, agent2)\n",
    "                agents_obs[agent2] = addOtherAgentLayers(agents_obs, agent2, agent1)\n",
    "            \n",
    "                #input dictionary -> sorted array (as sorted_obs_order)\n",
    "                for agent_name in agent_names:\n",
    "                    agent_obs_in_array = []\n",
    "                    for sorted_layer in sorted_obs_order:\n",
    "                        agent_obs_in_array.append(agents_obs[agent_name][sorted_layer])\n",
    "                    agents_obs_in_array.append(agent_obs_in_array)\n",
    "                \n",
    "                agents_obs_in_array = np.array(agents_obs_in_array, dtype=np.float32)\n",
    "                \n",
    "                agents_obs_in_array = torch.from_numpy(agents_obs_in_array).to(device)\n",
    "    \n",
    "                next_values = critic_model(agents_obs_in_array)\n",
    "                next_values = next_values.detach().cpu()\n",
    "                \n",
    "            returns_all = compute_GAE_dict(next_values, values_all, rewards_all, gamma_param, lambd_param)\n",
    "            \n",
    "            assert len(values_all[\"agent1\"]) == len(returns_all[\"agent1\"]) \n",
    "            \n",
    "            advantages_all = compute_Advantage_dict(values_all, returns_all)\n",
    "\n",
    "            \n",
    "            #Then convert all values into numpy using Tensor.detach().cpu().numpy()\n",
    "            states_all[\"agent1\"], states_all[\"agent2\"] = states_agent1, states_agent2\n",
    "    \n",
    "            \n",
    "            agent1_str = \"agent1\"\n",
    "            agent2_str = \"agent2\"\n",
    "\n",
    "            rewards_epoch = calc_total_reward(rewards_all)\n",
    "            writer.add_scalar(\"rewards_agent1\", rewards_epoch[0], num_epoch)\n",
    "            writer.add_scalar(\"rewards_agent2\", rewards_epoch[1], num_epoch)\n",
    "            total_rewards_epochs.append(rewards_epoch)\n",
    "            # print(f\"epoch {num_epoch}: total_rewards = {total_rewards_epochs[-1]}\")\n",
    "            \n",
    "            num_agents = len(agent_names)\n",
    "    \n",
    "            dict_keys = [\"agent1\", \"agent2\"]\n",
    "\n",
    "            for agent_name in dict_keys:\n",
    "                states_all_traj[agent_name].append(states_all[agent_name])\n",
    "                log_probs_all_traj[agent_name].append(log_probs_all[agent_name])\n",
    "                entropy_all_traj[agent_name].append(entropy_all[agent_name])\n",
    "                values_all_traj[agent_name].append(values_all[agent_name])\n",
    "                returns_all_traj[agent_name].append(returns_all[agent_name])\n",
    "                advantages_all_traj[agent_name].append(advantages_all[agent_name])\n",
    "\n",
    "                writer.add_scalar(f\"Advantage function value {agent_name}\", median(advantages_all[agent_name]), num_epoch)\n",
    "\n",
    "            if num_epoch != 0 and (num_epoch) % update_every == update_every - 1:\n",
    "                #convert list into tensor\n",
    "                for agent_name in dict_keys:\n",
    "                    states_all_traj[agent_name] = list(itertools.chain.from_iterable(states_all_traj[agent_name]))\n",
    "                    log_probs_all_traj[agent_name] = list(itertools.chain.from_iterable(log_probs_all_traj[agent_name]))\n",
    "                    entropy_all_traj[agent_name] = list(itertools.chain.from_iterable(entropy_all_traj[agent_name]))\n",
    "                    values_all_traj[agent_name] = list(itertools.chain.from_iterable(values_all_traj[agent_name]))\n",
    "                    returns_all_traj[agent_name] = list(itertools.chain.from_iterable(returns_all_traj[agent_name]))\n",
    "                    advantages_all_traj[agent_name] = list(itertools.chain.from_iterable(advantages_all_traj[agent_name]))\n",
    "            \n",
    "                states_all_traj = convert_list_into_tensor_dict(states_all_traj)\n",
    "                log_probs_all_traj = convert_list_into_tensor_dict(log_probs_all_traj) \n",
    "                entropy_all_traj = convert_list_into_tensor_dict(entropy_all_traj)\n",
    "                values_all_traj = concat_tensor_dict(values_all_traj)\n",
    "                returns_all_traj = convert_list_into_tensor_dict(returns_all_traj)\n",
    "                advantages_all_traj = concat_tensor_dict(advantages_all_traj)\n",
    "                \n",
    "                mappo_update(num_epoch, ppo_epoch, ppo_batch_size, dict_keys, states_all_traj, log_probs_all_traj, entropy_all_traj, advantages_all_traj, entropy_coef_param)    \n",
    "                critic_update(num_epoch, ppo_epoch, ppo_batch_size, mini_batch_size, dict_keys, states_all_traj, values_all_traj, returns_all_traj)\n",
    " \n",
    "        total_rewards_all.append(total_rewards_epochs)\n",
    "        \n",
    "        onnx_file_path = f\"agent_model_param_{num_epochs}_epochs_update_{str(update_every)}_epochs.onnx\"\n",
    "        torch.onnx.export(\n",
    "            agent_model,\n",
    "            states_all[\"agent1\"][0].unsqueeze(0).to(device),\n",
    "            onnx_file_path,\n",
    "            export_param=True,\n",
    "            opset_version=11,\n",
    "            do_constant_folding=True,\n",
    "            input_names=[\"input\"],\n",
    "            output_names=[\"output\"],\n",
    "        )\n",
    "            \n",
    "    # for epoch, rewards in enumerate(total_rewards_all):\n",
    "    #     print(f\"epoch: {epoch}, rewards: {rewards}\")\n",
    "    \n",
    "    env.close()"
   ]
  },
  {
   "cell_type": "code",
   "execution_count": 29,
   "id": "7d99df3c-5f95-471f-a76e-5cd7de2c3b7d",
   "metadata": {
    "editable": true,
    "slideshow": {
     "slide_type": ""
    },
    "tags": []
   },
   "outputs": [
    {
     "name": "stdout",
     "output_type": "stream",
     "text": [
      "[UnityMemory] Configuration Parameters - Can be set up in boot.config\n",
      "    \"memorysetup-bucket-allocator-granularity=16\"\n",
      "    \"memorysetup-bucket-allocator-bucket-count=8\"\n",
      "    \"memorysetup-bucket-allocator-block-size=4194304\"\n",
      "    \"memorysetup-bucket-allocator-block-count=1\"\n",
      "    \"memorysetup-main-allocator-block-size=16777216\"\n",
      "    \"memorysetup-thread-allocator-block-size=16777216\"\n",
      "    \"memorysetup-gfx-main-allocator-block-size=16777216\"\n",
      "    \"memorysetup-gfx-thread-allocator-block-size=16777216\"\n",
      "    \"memorysetup-cache-allocator-block-size=4194304\"\n",
      "    \"memorysetup-typetree-allocator-block-size=2097152\"\n",
      "    \"memorysetup-profiler-bucket-allocator-granularity=16\"\n",
      "    \"memorysetup-profiler-bucket-allocator-bucket-count=8\"\n",
      "    \"memorysetup-profiler-bucket-allocator-block-size=4194304\"\n",
      "    \"memorysetup-profiler-bucket-allocator-block-count=1\"\n",
      "    \"memorysetup-profiler-allocator-block-size=16777216\"\n",
      "    \"memorysetup-profiler-editor-allocator-block-size=1048576\"\n",
      "    \"memorysetup-temp-allocator-size-main=4194304\"\n",
      "    \"memorysetup-job-temp-allocator-block-size=2097152\"\n",
      "    \"memorysetup-job-temp-allocator-block-size-background=1048576\"\n",
      "    \"memorysetup-job-temp-allocator-reduction-small-platforms=262144\"\n",
      "    \"memorysetup-allocator-temp-initial-block-size-main=262144\"\n",
      "    \"memorysetup-allocator-temp-initial-block-size-worker=262144\"\n",
      "    \"memorysetup-temp-allocator-size-background-worker=32768\"\n",
      "    \"memorysetup-temp-allocator-size-job-worker=262144\"\n",
      "    \"memorysetup-temp-allocator-size-preload-manager=262144\"\n",
      "    \"memorysetup-temp-allocator-size-nav-mesh-worker=65536\"\n",
      "    \"memorysetup-temp-allocator-size-audio-worker=65536\"\n",
      "    \"memorysetup-temp-allocator-size-cloud-worker=32768\"\n",
      "    \"memorysetup-temp-allocator-size-gfx=262144\"\n",
      "Agents: ['ChefAgent?team=0', 'ChefAgent2?team=0']\n",
      "<class 'mlagents_envs.base_env.BehaviorMapping'>\n"
     ]
    }
   ],
   "source": [
    "main()"
   ]
  },
  {
   "cell_type": "code",
   "execution_count": 30,
   "id": "1a6deab2-a0be-477b-b36b-e147a05102f1",
   "metadata": {
    "editable": true,
    "slideshow": {
     "slide_type": ""
    },
    "tags": []
   },
   "outputs": [
    {
     "name": "stdout",
     "output_type": "stream",
     "text": [
      "1\n",
      "1500\n"
     ]
    }
   ],
   "source": [
    "print(len(total_rewards_all))\n",
    "print(len(total_rewards_all[0]))"
   ]
  },
  {
   "cell_type": "code",
   "execution_count": 31,
   "id": "f6b3eb1a-50ba-45b8-bcb0-1707baa9cccd",
   "metadata": {},
   "outputs": [],
   "source": [
    "import matplotlib.pyplot as plt"
   ]
  },
  {
   "cell_type": "code",
   "execution_count": 32,
   "id": "4cc6ebe3-1441-4322-9a6a-976f148b099b",
   "metadata": {},
   "outputs": [],
   "source": [
    "def plot_and_save_graph(total_rewards_all):\n",
    "    for total_reward in total_rewards_all:\n",
    "        flat_data = total_reward  # Now it's (300, 2)\n",
    "        \n",
    "        # Create X-axis (indices 0 to 299)\n",
    "        x = list(range(1,len(total_reward) + 1))\n",
    "        \n",
    "        # Extract the two Y-axis series\n",
    "        y1 = [pair[0] for pair in flat_data]  # First value in each pair\n",
    "        y2 = [pair[1] for pair in flat_data]  # Second value in each pair\n",
    "        \n",
    "        # Plot the data\n",
    "        plt.plot(x, y1, label=\"total rewards (agent1)\", color='blue')\n",
    "        plt.plot(x, y2, label=\"total rewards (agent2)\", color='orange')\n",
    "        \n",
    "        # Customize the graph\n",
    "        plt.title(\"Total rewards of each agent\")\n",
    "        plt.xlabel(\"epoch\")\n",
    "        plt.ylabel(\"total rewards\")\n",
    "        plt.legend()\n",
    "        plt.grid(True)\n",
    "        \n",
    "        plt.savefig(f\"graph_output_{len(total_reward)}_epochs.png\", dpi=800, format='png')  # Save as PNG with 300 DPI\n",
    "        \n",
    "        \n",
    "        # Display the graph\n",
    "        plt.show()"
   ]
  },
  {
   "cell_type": "code",
   "execution_count": 33,
   "id": "9cc8bcc4-0079-41f9-a2f8-2a596fe07d29",
   "metadata": {},
   "outputs": [
    {
     "data": {
      "image/png": "[encoded data removed]",
      "text/plain": [
       "<Figure size 640x480 with 1 Axes>"
      ]
     },
     "metadata": {},
     "output_type": "display_data"
    }
   ],
   "source": [
    "plot_and_save_graph(total_rewards_all)"
   ]
  },
  {
   "cell_type": "code",
   "execution_count": 37,
   "id": "8fe5498e-fc13-49ec-b3b0-29f4cdb85c1d",
   "metadata": {},
   "outputs": [
    {
     "ename": "ModuleNotFoundError",
     "evalue": "No module named 'ffmpeg'",
     "output_type": "error",
     "traceback": [
      "\u001b[0;31m---------------------------------------------------------------------------\u001b[0m",
      "\u001b[0;31mModuleNotFoundError\u001b[0m                       Traceback (most recent call last)",
      "Cell \u001b[0;32mIn[37], line 2\u001b[0m\n\u001b[1;32m      1\u001b[0m \u001b[38;5;28;01mimport\u001b[39;00m\u001b[38;5;250m \u001b[39m\u001b[38;5;21;01msubprocess\u001b[39;00m\n\u001b[0;32m----> 2\u001b[0m \u001b[38;5;28;01mimport\u001b[39;00m\u001b[38;5;250m \u001b[39m\u001b[38;5;21;01mffmpeg\u001b[39;00m\n",
      "\u001b[0;31mModuleNotFoundError\u001b[0m: No module named 'ffmpeg'"
     ]
    }
   ],
   "source": [
    "import subprocess\n",
    "import ffmpeg"
   ]
  },
  {
   "cell_type": "code",
   "execution_count": 34,
   "id": "00603bac-c7ba-4884-a5d6-e9458fe5f942",
   "metadata": {},
   "outputs": [
    {
     "data": {
      "text/plain": [
       "3"
      ]
     },
     "execution_count": 34,
     "metadata": {},
     "output_type": "execute_result"
    }
   ],
   "source": [
    "median([1,35,3])"
   ]
  },
  {
   "cell_type": "code",
   "execution_count": 36,
   "id": "947d24a4-dc01-4afc-8cf9-e63a6de60db9",
   "metadata": {},
   "outputs": [
    {
     "name": "stdout",
     "output_type": "stream",
     "text": [
      "total 142356\n",
      "-rw-rw-r--  1 kota kota 7164356  1月 11 18:23 agent_model_param_100_epochs.onnx\n",
      "-rw-rw-r--  1 kota kota 8085957  1月 24 12:05 agent_model_param_10_epochs.onnx\n",
      "-rw-rw-r--  1 kota kota 7164356  1月 21 09:12 agent_model_param_1500_epochs.onnx\n",
      "-rw-rw-r--  1 kota kota 8085957  2月 11 08:47 agent_model_param_1500_epochs_update_4_epochs.onnx\n",
      "-rw-rw-r--  1 kota kota 8085957  1月 27 14:10 agent_model_param_1_epochs.onnx\n",
      "-rw-rw-r--  1 kota kota 8085957  2月  7 16:58 agent_model_param_2000_epochs_update_10_epochs.onnx\n",
      "-rw-rw-r--  1 kota kota 8085957  2月  6 17:40 agent_model_param_2000_epochs_update_1_epochs.onnx\n",
      "-rw-rw-r--  1 kota kota 7164356  1月 16 15:45 agent_model_param_200_epochs.onnx\n",
      "-rw-rw-r--  1 kota kota 8085957  1月 24 02:57 agent_model_param_3000_epochs.onnx\n",
      "-rw-rw-r--  1 kota kota 7164356  1月 16 19:45 agent_model_param_300_epochs.onnx\n",
      "-rw-rw-r--  1 kota kota 7164356  1月 17 18:26 agent_model_param_500_epochs.onnx\n",
      "-rw-rw-r--  1 kota kota 7164356  1月 11 17:43 agent_model_param_5_epochs.onnx\n",
      "-rw-rw-r--  1 kota kota 7164356  1月 20 19:36 agent_model_param_600_epochs.onnx\n",
      "-rw-rw-r--  1 kota kota 8085957  2月  5 12:06 agent_model_param_per_10_epochs.onnx\n",
      "-rw-rw-r--  1 kota kota 8085957  2月  5 17:08 agent_model_param_per_1_epochs.onnx\n",
      "-rw-rw-r--  1 kota kota 8085957  2月  3 15:31 agent_model_param_per_2_epochs.onnx\n",
      "-rw-rw-r--  1 kota kota 8085957  2月  3 15:42 agent_model_param_per_5_epochs.onnx\n",
      "-rw-rw-r--  1 kota kota 7164356  1月 11 15:11 agent_model_param_v1.onnx\n",
      "-rw-rw-r--  1 kota kota     419 11月 28 17:47 docker-compose.yml\n",
      "-rw-rw-r--  1 kota kota     536 12月  2 14:40 Dockerfile\n",
      "-rw-rw-r--  1 kota kota    6320  1月  6 11:41 envTest.py\n",
      "-rw-rw-r--  1 kota kota  868707  2月  4 05:56 graph_output_1000_epochs.png\n",
      "-rw-rw-r--  1 kota kota  903186  2月  5 17:08 graph_output_100_epochs.png\n",
      "-rw-rw-r--  1 kota kota  445294  2月  3 15:42 graph_output_10_epochs.png\n",
      "-rw-rw-r--  1 kota kota  655835  2月 11 08:47 graph_output_1500_epochs.png\n",
      "-rw-rw-r--  1 kota kota  276943  1月 27 14:10 graph_output_1_epochs.png\n",
      "-rw-rw-r--  1 kota kota   80871  1月 20 13:25 graph_output_1.png\n",
      "-rw-rw-r--  1 kota kota  578153  2月  7 16:58 graph_output_2000_epochs.png\n",
      "-rw-rw-r--  1 kota kota  390009  2月  3 15:32 graph_output_3_epochs.png\n",
      "-rw-rw-r--  1 kota kota     115 12月 17 17:11 model.py\n",
      "-rw-rw-r--  1 kota kota       0  1月 20 14:00 output_cleaner.py\n",
      "drwxrwxr-x  2 kota kota    4096  1月 24 13:58 outputs\n",
      "-rw-rw-r--  1 kota kota 2909059  1月 24 13:58 outputs.zip\n",
      "drwxr-xr-x 18 kota kota    4096 11月 28 18:11 Python-3.9.0\n",
      "drwxrwxr-x 56 kota kota    4096  2月 10 18:08 runs\n",
      "-rw-rw-r--  1 kota kota   63203  2月  5 13:32 test_play_with_custom_model.ipynb\n",
      "-rw-rw-r--  1 kota kota   86310  2月  5 16:07 unity_env_from_jupyter.ipynb\n",
      "-rw-rw-r--  1 kota kota  117409  2月 12 16:14 unity_env_from_jupyter_replay_buffer.ipynb\n",
      "-rw-rw-r--  1 kota kota   86401  1月 27 17:32 unity_env_from_jupyter-use_whole_traj.ipynb\n",
      "drwxr-xr-x  6 root root"
     ]
    },
    {
     "data": {
      "text/plain": [
       "CompletedProcess(args=['ls', '-l'], returncode=0)"
      ]
     },
     "execution_count": 36,
     "metadata": {},
     "output_type": "execute_result"
    },
    {
     "name": "stdout",
     "output_type": "stream",
     "text": [
      "    4096 12月  2 15:07 ZSC-Eval\n"
     ]
    }
   ],
   "source": [
    "subprocess.run([\"ls\", \"-l\"])"
   ]
  },
  {
   "cell_type": "code",
   "execution_count": null,
   "id": "264b5964-0df9-48df-b175-3757864eaf35",
   "metadata": {},
   "outputs": [],
   "source": []
  }
 ],
 "metadata": {
  "kernelspec": {
   "display_name": "Python 3 (ipykernel)",
   "language": "python",
   "name": "python3"
  },
  "language_info": {
   "codemirror_mode": {
    "name": "ipython",
    "version": 3
   },
   "file_extension": ".py",
   "mimetype": "text/x-python",
   "name": "python",
   "nbconvert_exporter": "python",
   "pygments_lexer": "ipython3",
   "version": "3.10.12"
  }
 },
 "nbformat": 4,
 "nbformat_minor": 5
}
